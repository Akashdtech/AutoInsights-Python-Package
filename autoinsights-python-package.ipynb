{
  "nbformat": 4,
  "nbformat_minor": 0,
  "metadata": {
    "colab": {
      "provenance": []
    },
    "kernelspec": {
      "name": "python3",
      "display_name": "Python 3"
    },
    "language_info": {
      "name": "python"
    }
  },
  "cells": [
    {
      "cell_type": "markdown",
      "source": [
        "**insights.py**"
      ],
      "metadata": {
        "id": "bPGGWReCE1OA"
      }
    },
    {
      "cell_type": "code",
      "execution_count": 1,
      "metadata": {
        "id": "dKNhzWa4oClw"
      },
      "outputs": [],
      "source": [
        "import pandas as pd\n",
        "import matplotlib.pyplot as plt\n",
        "import seaborn as sns"
      ]
    },
    {
      "cell_type": "code",
      "source": [
        "class AutoInsights:\n",
        "    def __init__(self, df):\n",
        "        \"\"\"Initialize with a Pandas DataFrame.\"\"\"\n",
        "        self.df = df\n",
        "\n",
        "    def explore_data(self):\n",
        "        \"\"\"Perform initial dataset exploration.\"\"\"\n",
        "        print(\"Dataset Info\")\n",
        "        print(self.df.info())\n",
        "        print(\"\\n First 10 Rows\")\n",
        "        print(self.df.head(10))\n",
        "        print(\"\\n Last 10 Rows\")\n",
        "        print(self.df.tail(10))\n",
        "        print(\"\\n Summary Statistics\")\n",
        "        print(self.df.describe())\n",
        "        print(\"\\n Missing Values\")\n",
        "        print(self.df.isnull().sum())\n",
        "\n",
        "    def plot_histograms(self):\n",
        "        \"\"\"Plot histograms for numerical columns.\"\"\"\n",
        "        self.df.hist(figsize = (12, 8), bins = 30, edgecolor = 'black')\n",
        "        plt.suptitle(\"Histograms of Numerical Features\")\n",
        "        plt.show()\n",
        "\n",
        "    def plot_boxplots(self):\n",
        "        \"\"\"Plot boxplots for numerical columns.\"\"\"\n",
        "        numeric_cols = self.df.select_dtypes(include = [\"number\"]).columns\n",
        "        plt.figure(figsize = (12, 6))\n",
        "        sns.boxplot(data = self.df[numeric_cols])\n",
        "        plt.xticks(rotation = 45)\n",
        "        plt.title(\"Boxplots of Numerical Features\")\n",
        "        plt.show()\n",
        "\n",
        "    def plot_correlation_heatmap(self):\n",
        "        \"\"\"Plot a heatmap of feature correlations.\"\"\"\n",
        "        numeric_cols = self.df.select_dtypes(include = [\"number\"]).columns\n",
        "        plt.figure(figsize = (10, 6))\n",
        "        sns.heatmap(self.df[numeric_cols].corr(), annot = True, cmap = \"coolwarm\", linewidths = 0.5)\n",
        "        plt.title(\"Feature Correlation Heatmap\")\n",
        "        plt.show()\n",
        "\n",
        "    def plot_pairplot(self):\n",
        "        \"\"\"Plot pairwise relationships for numerical columns.\"\"\"\n",
        "        sns.pairplot(self.df.select_dtypes(include = [\"number\"]))\n",
        "        plt.suptitle(\"Pairwise Relationships\", y=1.02)\n",
        "        plt.show()\n",
        "\n",
        "    def plot_categorical_counts(self):\n",
        "        \"\"\"Plot bar charts for categorical variables.\"\"\"\n",
        "        categorical_cols = self.df.select_dtypes(include = [\"object\", \"category\"]).columns\n",
        "        for col in categorical_cols:\n",
        "            plt.figure(figsize = (8, 4))\n",
        "            sns.countplot(y = self.df[col], order = self.df[col].value_counts().index, palette = \"viridis\")\n",
        "            plt.title(\"Count Plots of Categorical Features\")\n",
        "            plt.show()\n",
        "\n",
        "    def explore_dataset(self):\n",
        "        self.explore_data()\n",
        "\n",
        "    def generate_plots(self):\n",
        "        \"\"\"Perform dataset exploration and generate all visualizations.\"\"\"\n",
        "        self.plot_histograms()\n",
        "        self.plot_boxplots()\n",
        "        self.plot_correlation_heatmap()\n",
        "        self.plot_pairplot()\n",
        "        self.plot_categorical_counts()"
      ],
      "metadata": {
        "id": "xCkQzo6IoKi7"
      },
      "execution_count": 2,
      "outputs": []
    },
    {
      "cell_type": "markdown",
      "source": [
        "**setup.py**"
      ],
      "metadata": {
        "id": "cEKfdLoxEtn9"
      }
    },
    {
      "cell_type": "code",
      "execution_count": 3,
      "metadata": {
        "id": "y-sHzqVTD__d"
      },
      "outputs": [],
      "source": [
        "from setuptools import setup, find_packages"
      ]
    },
    {
      "cell_type": "code",
      "source": [
        "setup(\n",
        "    name = \"autoinsights\",\n",
        "    version = \"0.1\",\n",
        "    author = \"Akash Das\",\n",
        "    author_email = \"akashdpro@gmail.com\",\n",
        "    description = \"An automatic dataset exploration and visualization package\",\n",
        "    long_description = open(\"README.md\").read(),\n",
        "    long_description_content_type = \"text/markdown\",\n",
        "    url = \"https://github.com/Akashdtech/autoinsights\",\n",
        "    packages = find_packages(),\n",
        "    install_requires = [\n",
        "        \"pandas>=1.0.0\",\n",
        "        \"matplotlib>=3.0.0\",\n",
        "        \"seaborn>=0.11.0\"\n",
        "    ],\n",
        "    classifiers = [\n",
        "        \"Programming Language :: Python :: 3\",\n",
        "        \"License :: OSI Approved :: MIT License\",\n",
        "        \"Operating System :: OS Independent\",\n",
        "    ],\n",
        "    python_requires=\">=3.6\",\n",
        ")"
      ],
      "metadata": {
        "id": "AQ4TudkEEP18"
      },
      "execution_count": null,
      "outputs": []
    },
    {
      "cell_type": "markdown",
      "source": [
        "**__init__.py**"
      ],
      "metadata": {
        "id": "8ircthy1FYZp"
      }
    },
    {
      "cell_type": "code",
      "source": [
        "from .insights import AutoInsights\n",
        "\n",
        "__version__ = \"0.1\"\n",
        "__all__ = [\"AutoInsights\"]"
      ],
      "metadata": {
        "id": "1TWLjyysFgDR"
      },
      "execution_count": null,
      "outputs": []
    }
  ]
}
